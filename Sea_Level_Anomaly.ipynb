{
  "cells": [
    {
      "cell_type": "code",
      "execution_count": null,
      "metadata": {
        "colab": {
          "base_uri": "https://localhost:8080/"
        },
        "id": "5OJ6tggbR2-v",
        "outputId": "7df2f8d1-13b7-4b9b-abd7-956932794896"
      },
      "outputs": [
        {
          "output_type": "stream",
          "name": "stdout",
          "text": [
            "Collecting netCDF4\n",
            "  Downloading netCDF4-1.7.2-cp310-cp310-manylinux_2_17_x86_64.manylinux2014_x86_64.whl.metadata (1.8 kB)\n",
            "Requirement already satisfied: gdown in /usr/local/lib/python3.10/dist-packages (5.2.0)\n",
            "Collecting cftime (from netCDF4)\n",
            "  Downloading cftime-1.6.4.post1-cp310-cp310-manylinux_2_17_x86_64.manylinux2014_x86_64.whl.metadata (8.7 kB)\n",
            "Requirement already satisfied: certifi in /usr/local/lib/python3.10/dist-packages (from netCDF4) (2024.12.14)\n",
            "Requirement already satisfied: numpy in /usr/local/lib/python3.10/dist-packages (from netCDF4) (1.26.4)\n",
            "Requirement already satisfied: beautifulsoup4 in /usr/local/lib/python3.10/dist-packages (from gdown) (4.12.3)\n",
            "Requirement already satisfied: filelock in /usr/local/lib/python3.10/dist-packages (from gdown) (3.16.1)\n",
            "Requirement already satisfied: requests[socks] in /usr/local/lib/python3.10/dist-packages (from gdown) (2.32.3)\n",
            "Requirement already satisfied: tqdm in /usr/local/lib/python3.10/dist-packages (from gdown) (4.67.1)\n",
            "Requirement already satisfied: soupsieve>1.2 in /usr/local/lib/python3.10/dist-packages (from beautifulsoup4->gdown) (2.6)\n",
            "Requirement already satisfied: charset-normalizer<4,>=2 in /usr/local/lib/python3.10/dist-packages (from requests[socks]->gdown) (3.4.1)\n",
            "Requirement already satisfied: idna<4,>=2.5 in /usr/local/lib/python3.10/dist-packages (from requests[socks]->gdown) (3.10)\n",
            "Requirement already satisfied: urllib3<3,>=1.21.1 in /usr/local/lib/python3.10/dist-packages (from requests[socks]->gdown) (2.3.0)\n",
            "Requirement already satisfied: PySocks!=1.5.7,>=1.5.6 in /usr/local/lib/python3.10/dist-packages (from requests[socks]->gdown) (1.7.1)\n",
            "Downloading netCDF4-1.7.2-cp310-cp310-manylinux_2_17_x86_64.manylinux2014_x86_64.whl (9.1 MB)\n",
            "\u001b[2K   \u001b[90m━━━━━━━━━━━━━━━━━━━━━━━━━━━━━━━━━━━━━━━━\u001b[0m \u001b[32m9.1/9.1 MB\u001b[0m \u001b[31m50.8 MB/s\u001b[0m eta \u001b[36m0:00:00\u001b[0m\n",
            "\u001b[?25hDownloading cftime-1.6.4.post1-cp310-cp310-manylinux_2_17_x86_64.manylinux2014_x86_64.whl (1.3 MB)\n",
            "\u001b[2K   \u001b[90m━━━━━━━━━━━━━━━━━━━━━━━━━━━━━━━━━━━━━━━━\u001b[0m \u001b[32m1.3/1.3 MB\u001b[0m \u001b[31m34.5 MB/s\u001b[0m eta \u001b[36m0:00:00\u001b[0m\n",
            "\u001b[?25hInstalling collected packages: cftime, netCDF4\n",
            "Successfully installed cftime-1.6.4.post1 netCDF4-1.7.2\n",
            "Mounted at /content/drive\n"
          ]
        }
      ],
      "source": [
        "!pip install netCDF4 gdown\n",
        "import netCDF4\n",
        "import os\n",
        "import numpy as np\n",
        "from google.colab import drive\n",
        "drive.mount('/content/drive')\n",
        "import pandas as pd\n",
        "import matplotlib.pyplot as plt\n",
        "from google.colab import files\n",
        "import gdown"
      ]
    },
    {
      "cell_type": "code",
      "execution_count": null,
      "metadata": {
        "id": "WADHXJij5YUQ"
      },
      "outputs": [],
      "source": [
        "# Define the Google Drive file ID and the output file path\n",
        "file_id = \"1o9jrAMlFyHWIBwXSyuspN5ihBWi51uEx\"\n",
        "output_file_path = \"/content/19930101.nc\""
      ]
    },
    {
      "cell_type": "code",
      "source": [
        "# Download the file from Google Drive\n",
        "gdown.download(f\"https://drive.google.com/uc?id={file_id}\", output_file_path, quiet=False)"
      ],
      "metadata": {
        "colab": {
          "base_uri": "https://localhost:8080/",
          "height": 107
        },
        "id": "_EyjkyOz5Aip",
        "outputId": "69162651-f505-44cf-eab2-154b88f35cce"
      },
      "execution_count": null,
      "outputs": [
        {
          "output_type": "stream",
          "name": "stderr",
          "text": [
            "Downloading...\n",
            "From: https://drive.google.com/uc?id=1o9jrAMlFyHWIBwXSyuspN5ihBWi51uEx\n",
            "To: /content/19930101.nc\n",
            "100%|██████████| 247k/247k [00:00<00:00, 6.01MB/s]\n"
          ]
        },
        {
          "output_type": "execute_result",
          "data": {
            "text/plain": [
              "'/content/19930101.nc'"
            ],
            "application/vnd.google.colaboratory.intrinsic+json": {
              "type": "string"
            }
          },
          "metadata": {},
          "execution_count": 4
        }
      ]
    },
    {
      "cell_type": "code",
      "execution_count": null,
      "metadata": {
        "id": "A_WUpMVi5YUQ"
      },
      "outputs": [],
      "source": [
        "# Open the .nc file\n",
        "dataset = netCDF4.Dataset(output_file_path, mode=\"r\")"
      ]
    },
    {
      "cell_type": "code",
      "execution_count": null,
      "metadata": {
        "colab": {
          "base_uri": "https://localhost:8080/"
        },
        "id": "M_fayuuq5YUR",
        "outputId": "57986cae-3a13-46b9-915c-7b33572d7998"
      },
      "outputs": [
        {
          "output_type": "stream",
          "name": "stdout",
          "text": [
            "<class 'netCDF4.Dataset'>\n",
            "root group (NETCDF4 data model, file format HDF5):\n",
            "    Conventions: CF-1.6\n",
            "    Metadata_Conventions: Unidata Dataset Discovery v1.0\n",
            "    cdm_data_type: Grid\n",
            "    comment: Sea Surface Height measured by Altimetry and derived variables\n",
            "    contact: http://climate.copernicus.eu/c3s-user-service-desk\n",
            "    creator_email: http://climate.copernicus.eu/c3s-user-service-desk\n",
            "    creator_name: Copernicus Climate Change Service (C3S)\n",
            "    creator_url: http://climate.copernicus.eu\n",
            "    date_created: 2021-07-09T08:53:57Z\n",
            "    date_issued: 2021-07-09T08:53:57Z\n",
            "    date_modified: 2021-07-09T08:53:57Z\n",
            "    geospatial_lat_max: 89.875\n",
            "    geospatial_lat_min: -89.875\n",
            "    geospatial_lat_resolution: 0.25\n",
            "    geospatial_lat_units: degrees_north\n",
            "    geospatial_lon_max: 179.875\n",
            "    geospatial_lon_min: -179.875\n",
            "    geospatial_lon_resolution: 0.25\n",
            "    geospatial_lon_units: degrees_east\n",
            "    geospatial_vertical_max: 0.0\n",
            "    geospatial_vertical_min: 0.0\n",
            "    geospatial_vertical_positive: down\n",
            "    geospatial_vertical_resolution: point\n",
            "    geospatial_vertical_units: m\n",
            "    history: 2021-07-09 08:53:58Z: Creation\n",
            "    institution: CLS, CNES\n",
            "    keywords: Oceans > Ocean Topography > Sea Surface Height\n",
            "    keywords_vocabulary: NetCDF COARDS Climate and Forecast Standard Names\n",
            "    license: http://climate.copernicus.eu/c3s-user-service-desk\n",
            "    platform: ERS-1, Topex/Poseidon,\n",
            "    processing_level: L4\n",
            "    product_version: vDec2021\n",
            "    project: Copernicus Climate Change Service (C3S)\n",
            "    references: http://climate.copernicus.eu\n",
            "    software_version: 7.0_DUACS_DT2021_baseline\n",
            "    source: Altimetry measurements\n",
            "    ssalto_duacs_comment: The reference mission used for the altimeter inter-calibration processing is Topex/Poseidon between 1993-01-01 and 2002-04-23, Jason-1 between 2002-04-24 and 2008-10-18, OSTM/Jason-2 between 2008-10-19 and 2016-06-25, Jason-3 since 2016-06-25.\n",
            "    standard_name_vocabulary: NetCDF Climate and Forecast (CF) Metadata Convention Standard Name Table v37\n",
            "    summary: SSALTO/DUACS Delayed-Time Level-4 sea surface height and derived variables measured by multi-satellite altimetry observations over Global Ocean.\n",
            "    time_coverage_duration: P1D\n",
            "    time_coverage_end: 1993-01-01T12:00:00Z\n",
            "    time_coverage_resolution: P1D\n",
            "    time_coverage_start: 1992-12-31T12:00:00Z\n",
            "    title: DT merged two satellites Global Ocean Gridded SSALTO/DUACS Sea Surface Height L4 product and derived variables\n",
            "    dimensions(sizes): time(1), latitude(100), nv(2), longitude(160)\n",
            "    variables(dimensions): int32 crs(), float32 time(time), float32 latitude(latitude), float32 lat_bnds(latitude, nv), float32 longitude(longitude), float32 lon_bnds(longitude, nv), int32 nv(nv), int32 sla(time, latitude, longitude), int32 err_sla(time, latitude, longitude), int32 ugosa(time, latitude, longitude), int32 err_ugosa(time, latitude, longitude), int32 vgosa(time, latitude, longitude), int32 err_vgosa(time, latitude, longitude), int32 adt(time, latitude, longitude), int32 ugos(time, latitude, longitude), int32 vgos(time, latitude, longitude), int32 tpa_correction(time), int32 flag_ice(time, latitude, longitude)\n",
            "    groups: \n"
          ]
        }
      ],
      "source": [
        "print(dataset)"
      ]
    },
    {
      "cell_type": "code",
      "source": [
        "import xarray as xr\n",
        "\n",
        "ds = xr.open_dataset(output_file_path)\n",
        "df = ds.to_dataframe()"
      ],
      "metadata": {
        "id": "jSCy6yxgUw8r"
      },
      "execution_count": null,
      "outputs": []
    },
    {
      "cell_type": "code",
      "source": [
        "df"
      ],
      "metadata": {
        "colab": {
          "base_uri": "https://localhost:8080/",
          "height": 474
        },
        "id": "4wsJndyvVDGG",
        "outputId": "688869dd-ecdc-4967-c1e7-a1c51380e993"
      },
      "execution_count": null,
      "outputs": [
        {
          "output_type": "execute_result",
          "data": {
            "text/plain": [
              "                                         crs  lat_bnds  lon_bnds     sla  \\\n",
              "time       latitude nv longitude                                           \n",
              "1993-01-01 25.125   0  -99.875   -2147483647      25.0   -100.00     NaN   \n",
              "                       -99.625   -2147483647      25.0    -99.75     NaN   \n",
              "                       -99.375   -2147483647      25.0    -99.50     NaN   \n",
              "                       -99.125   -2147483647      25.0    -99.25     NaN   \n",
              "                       -98.875   -2147483647      25.0    -99.00     NaN   \n",
              "...                                      ...       ...       ...     ...   \n",
              "           49.875   1  -61.125   -2147483647      50.0    -61.00 -0.0107   \n",
              "                       -60.875   -2147483647      50.0    -60.75 -0.0140   \n",
              "                       -60.625   -2147483647      50.0    -60.50 -0.0091   \n",
              "                       -60.375   -2147483647      50.0    -60.25 -0.0093   \n",
              "                       -60.125   -2147483647      50.0    -60.00 -0.0176   \n",
              "\n",
              "                                  err_sla   ugosa  err_ugosa   vgosa  \\\n",
              "time       latitude nv longitude                                       \n",
              "1993-01-01 25.125   0  -99.875        NaN     NaN        NaN     NaN   \n",
              "                       -99.625        NaN     NaN        NaN     NaN   \n",
              "                       -99.375        NaN     NaN        NaN     NaN   \n",
              "                       -99.125        NaN     NaN        NaN     NaN   \n",
              "                       -98.875        NaN     NaN        NaN     NaN   \n",
              "...                                   ...     ...        ...     ...   \n",
              "           49.875   1  -61.125     0.0259  0.0332     0.0363 -0.0137   \n",
              "                       -60.875     0.0271  0.0375     0.0377  0.0036   \n",
              "                       -60.625     0.0281  0.0184     0.0394  0.0228   \n",
              "                       -60.375     0.0291  0.0040     0.0407 -0.0244   \n",
              "                       -60.125     0.0301  0.0014     0.0422 -0.0486   \n",
              "\n",
              "                                  err_vgosa     adt    ugos    vgos  \\\n",
              "time       latitude nv longitude                                      \n",
              "1993-01-01 25.125   0  -99.875          NaN     NaN     NaN     NaN   \n",
              "                       -99.625          NaN     NaN     NaN     NaN   \n",
              "                       -99.375          NaN     NaN     NaN     NaN   \n",
              "                       -99.125          NaN     NaN     NaN     NaN   \n",
              "                       -98.875          NaN     NaN     NaN     NaN   \n",
              "...                                     ...     ...     ...     ...   \n",
              "           49.875   1  -61.125       0.0688 -0.1414  0.0350 -0.0109   \n",
              "                       -60.875       0.0690 -0.1442  0.0376  0.0055   \n",
              "                       -60.625       0.0696 -0.1389  0.0174  0.0241   \n",
              "                       -60.375       0.0709 -0.1388  0.0018 -0.0233   \n",
              "                       -60.125       0.0687 -0.1469 -0.0017 -0.0475   \n",
              "\n",
              "                                  tpa_correction  flag_ice  \n",
              "time       latitude nv longitude                            \n",
              "1993-01-01 25.125   0  -99.875            0.0061       NaN  \n",
              "                       -99.625            0.0061       NaN  \n",
              "                       -99.375            0.0061       NaN  \n",
              "                       -99.125            0.0061       NaN  \n",
              "                       -98.875            0.0061       NaN  \n",
              "...                                          ...       ...  \n",
              "           49.875   1  -61.125            0.0061       0.0  \n",
              "                       -60.875            0.0061       0.0  \n",
              "                       -60.625            0.0061       0.0  \n",
              "                       -60.375            0.0061       0.0  \n",
              "                       -60.125            0.0061       0.0  \n",
              "\n",
              "[32000 rows x 14 columns]"
            ],
            "text/html": [
              "\n",
              "  <div id=\"df-29618b2b-fbcc-4f0c-a4ba-7c70b8f45f17\" class=\"colab-df-container\">\n",
              "    <div>\n",
              "<style scoped>\n",
              "    .dataframe tbody tr th:only-of-type {\n",
              "        vertical-align: middle;\n",
              "    }\n",
              "\n",
              "    .dataframe tbody tr th {\n",
              "        vertical-align: top;\n",
              "    }\n",
              "\n",
              "    .dataframe thead th {\n",
              "        text-align: right;\n",
              "    }\n",
              "</style>\n",
              "<table border=\"1\" class=\"dataframe\">\n",
              "  <thead>\n",
              "    <tr style=\"text-align: right;\">\n",
              "      <th></th>\n",
              "      <th></th>\n",
              "      <th></th>\n",
              "      <th></th>\n",
              "      <th>crs</th>\n",
              "      <th>lat_bnds</th>\n",
              "      <th>lon_bnds</th>\n",
              "      <th>sla</th>\n",
              "      <th>err_sla</th>\n",
              "      <th>ugosa</th>\n",
              "      <th>err_ugosa</th>\n",
              "      <th>vgosa</th>\n",
              "      <th>err_vgosa</th>\n",
              "      <th>adt</th>\n",
              "      <th>ugos</th>\n",
              "      <th>vgos</th>\n",
              "      <th>tpa_correction</th>\n",
              "      <th>flag_ice</th>\n",
              "    </tr>\n",
              "    <tr>\n",
              "      <th>time</th>\n",
              "      <th>latitude</th>\n",
              "      <th>nv</th>\n",
              "      <th>longitude</th>\n",
              "      <th></th>\n",
              "      <th></th>\n",
              "      <th></th>\n",
              "      <th></th>\n",
              "      <th></th>\n",
              "      <th></th>\n",
              "      <th></th>\n",
              "      <th></th>\n",
              "      <th></th>\n",
              "      <th></th>\n",
              "      <th></th>\n",
              "      <th></th>\n",
              "      <th></th>\n",
              "      <th></th>\n",
              "    </tr>\n",
              "  </thead>\n",
              "  <tbody>\n",
              "    <tr>\n",
              "      <th rowspan=\"11\" valign=\"top\">1993-01-01</th>\n",
              "      <th rowspan=\"5\" valign=\"top\">25.125</th>\n",
              "      <th rowspan=\"5\" valign=\"top\">0</th>\n",
              "      <th>-99.875</th>\n",
              "      <td>-2147483647</td>\n",
              "      <td>25.0</td>\n",
              "      <td>-100.00</td>\n",
              "      <td>NaN</td>\n",
              "      <td>NaN</td>\n",
              "      <td>NaN</td>\n",
              "      <td>NaN</td>\n",
              "      <td>NaN</td>\n",
              "      <td>NaN</td>\n",
              "      <td>NaN</td>\n",
              "      <td>NaN</td>\n",
              "      <td>NaN</td>\n",
              "      <td>0.0061</td>\n",
              "      <td>NaN</td>\n",
              "    </tr>\n",
              "    <tr>\n",
              "      <th>-99.625</th>\n",
              "      <td>-2147483647</td>\n",
              "      <td>25.0</td>\n",
              "      <td>-99.75</td>\n",
              "      <td>NaN</td>\n",
              "      <td>NaN</td>\n",
              "      <td>NaN</td>\n",
              "      <td>NaN</td>\n",
              "      <td>NaN</td>\n",
              "      <td>NaN</td>\n",
              "      <td>NaN</td>\n",
              "      <td>NaN</td>\n",
              "      <td>NaN</td>\n",
              "      <td>0.0061</td>\n",
              "      <td>NaN</td>\n",
              "    </tr>\n",
              "    <tr>\n",
              "      <th>-99.375</th>\n",
              "      <td>-2147483647</td>\n",
              "      <td>25.0</td>\n",
              "      <td>-99.50</td>\n",
              "      <td>NaN</td>\n",
              "      <td>NaN</td>\n",
              "      <td>NaN</td>\n",
              "      <td>NaN</td>\n",
              "      <td>NaN</td>\n",
              "      <td>NaN</td>\n",
              "      <td>NaN</td>\n",
              "      <td>NaN</td>\n",
              "      <td>NaN</td>\n",
              "      <td>0.0061</td>\n",
              "      <td>NaN</td>\n",
              "    </tr>\n",
              "    <tr>\n",
              "      <th>-99.125</th>\n",
              "      <td>-2147483647</td>\n",
              "      <td>25.0</td>\n",
              "      <td>-99.25</td>\n",
              "      <td>NaN</td>\n",
              "      <td>NaN</td>\n",
              "      <td>NaN</td>\n",
              "      <td>NaN</td>\n",
              "      <td>NaN</td>\n",
              "      <td>NaN</td>\n",
              "      <td>NaN</td>\n",
              "      <td>NaN</td>\n",
              "      <td>NaN</td>\n",
              "      <td>0.0061</td>\n",
              "      <td>NaN</td>\n",
              "    </tr>\n",
              "    <tr>\n",
              "      <th>-98.875</th>\n",
              "      <td>-2147483647</td>\n",
              "      <td>25.0</td>\n",
              "      <td>-99.00</td>\n",
              "      <td>NaN</td>\n",
              "      <td>NaN</td>\n",
              "      <td>NaN</td>\n",
              "      <td>NaN</td>\n",
              "      <td>NaN</td>\n",
              "      <td>NaN</td>\n",
              "      <td>NaN</td>\n",
              "      <td>NaN</td>\n",
              "      <td>NaN</td>\n",
              "      <td>0.0061</td>\n",
              "      <td>NaN</td>\n",
              "    </tr>\n",
              "    <tr>\n",
              "      <th>...</th>\n",
              "      <th>...</th>\n",
              "      <th>...</th>\n",
              "      <td>...</td>\n",
              "      <td>...</td>\n",
              "      <td>...</td>\n",
              "      <td>...</td>\n",
              "      <td>...</td>\n",
              "      <td>...</td>\n",
              "      <td>...</td>\n",
              "      <td>...</td>\n",
              "      <td>...</td>\n",
              "      <td>...</td>\n",
              "      <td>...</td>\n",
              "      <td>...</td>\n",
              "      <td>...</td>\n",
              "      <td>...</td>\n",
              "    </tr>\n",
              "    <tr>\n",
              "      <th rowspan=\"5\" valign=\"top\">49.875</th>\n",
              "      <th rowspan=\"5\" valign=\"top\">1</th>\n",
              "      <th>-61.125</th>\n",
              "      <td>-2147483647</td>\n",
              "      <td>50.0</td>\n",
              "      <td>-61.00</td>\n",
              "      <td>-0.0107</td>\n",
              "      <td>0.0259</td>\n",
              "      <td>0.0332</td>\n",
              "      <td>0.0363</td>\n",
              "      <td>-0.0137</td>\n",
              "      <td>0.0688</td>\n",
              "      <td>-0.1414</td>\n",
              "      <td>0.0350</td>\n",
              "      <td>-0.0109</td>\n",
              "      <td>0.0061</td>\n",
              "      <td>0.0</td>\n",
              "    </tr>\n",
              "    <tr>\n",
              "      <th>-60.875</th>\n",
              "      <td>-2147483647</td>\n",
              "      <td>50.0</td>\n",
              "      <td>-60.75</td>\n",
              "      <td>-0.0140</td>\n",
              "      <td>0.0271</td>\n",
              "      <td>0.0375</td>\n",
              "      <td>0.0377</td>\n",
              "      <td>0.0036</td>\n",
              "      <td>0.0690</td>\n",
              "      <td>-0.1442</td>\n",
              "      <td>0.0376</td>\n",
              "      <td>0.0055</td>\n",
              "      <td>0.0061</td>\n",
              "      <td>0.0</td>\n",
              "    </tr>\n",
              "    <tr>\n",
              "      <th>-60.625</th>\n",
              "      <td>-2147483647</td>\n",
              "      <td>50.0</td>\n",
              "      <td>-60.50</td>\n",
              "      <td>-0.0091</td>\n",
              "      <td>0.0281</td>\n",
              "      <td>0.0184</td>\n",
              "      <td>0.0394</td>\n",
              "      <td>0.0228</td>\n",
              "      <td>0.0696</td>\n",
              "      <td>-0.1389</td>\n",
              "      <td>0.0174</td>\n",
              "      <td>0.0241</td>\n",
              "      <td>0.0061</td>\n",
              "      <td>0.0</td>\n",
              "    </tr>\n",
              "    <tr>\n",
              "      <th>-60.375</th>\n",
              "      <td>-2147483647</td>\n",
              "      <td>50.0</td>\n",
              "      <td>-60.25</td>\n",
              "      <td>-0.0093</td>\n",
              "      <td>0.0291</td>\n",
              "      <td>0.0040</td>\n",
              "      <td>0.0407</td>\n",
              "      <td>-0.0244</td>\n",
              "      <td>0.0709</td>\n",
              "      <td>-0.1388</td>\n",
              "      <td>0.0018</td>\n",
              "      <td>-0.0233</td>\n",
              "      <td>0.0061</td>\n",
              "      <td>0.0</td>\n",
              "    </tr>\n",
              "    <tr>\n",
              "      <th>-60.125</th>\n",
              "      <td>-2147483647</td>\n",
              "      <td>50.0</td>\n",
              "      <td>-60.00</td>\n",
              "      <td>-0.0176</td>\n",
              "      <td>0.0301</td>\n",
              "      <td>0.0014</td>\n",
              "      <td>0.0422</td>\n",
              "      <td>-0.0486</td>\n",
              "      <td>0.0687</td>\n",
              "      <td>-0.1469</td>\n",
              "      <td>-0.0017</td>\n",
              "      <td>-0.0475</td>\n",
              "      <td>0.0061</td>\n",
              "      <td>0.0</td>\n",
              "    </tr>\n",
              "  </tbody>\n",
              "</table>\n",
              "<p>32000 rows × 14 columns</p>\n",
              "</div>\n",
              "    <div class=\"colab-df-buttons\">\n",
              "\n",
              "  <div class=\"colab-df-container\">\n",
              "    <button class=\"colab-df-convert\" onclick=\"convertToInteractive('df-29618b2b-fbcc-4f0c-a4ba-7c70b8f45f17')\"\n",
              "            title=\"Convert this dataframe to an interactive table.\"\n",
              "            style=\"display:none;\">\n",
              "\n",
              "  <svg xmlns=\"http://www.w3.org/2000/svg\" height=\"24px\" viewBox=\"0 -960 960 960\">\n",
              "    <path d=\"M120-120v-720h720v720H120Zm60-500h600v-160H180v160Zm220 220h160v-160H400v160Zm0 220h160v-160H400v160ZM180-400h160v-160H180v160Zm440 0h160v-160H620v160ZM180-180h160v-160H180v160Zm440 0h160v-160H620v160Z\"/>\n",
              "  </svg>\n",
              "    </button>\n",
              "\n",
              "  <style>\n",
              "    .colab-df-container {\n",
              "      display:flex;\n",
              "      gap: 12px;\n",
              "    }\n",
              "\n",
              "    .colab-df-convert {\n",
              "      background-color: #E8F0FE;\n",
              "      border: none;\n",
              "      border-radius: 50%;\n",
              "      cursor: pointer;\n",
              "      display: none;\n",
              "      fill: #1967D2;\n",
              "      height: 32px;\n",
              "      padding: 0 0 0 0;\n",
              "      width: 32px;\n",
              "    }\n",
              "\n",
              "    .colab-df-convert:hover {\n",
              "      background-color: #E2EBFA;\n",
              "      box-shadow: 0px 1px 2px rgba(60, 64, 67, 0.3), 0px 1px 3px 1px rgba(60, 64, 67, 0.15);\n",
              "      fill: #174EA6;\n",
              "    }\n",
              "\n",
              "    .colab-df-buttons div {\n",
              "      margin-bottom: 4px;\n",
              "    }\n",
              "\n",
              "    [theme=dark] .colab-df-convert {\n",
              "      background-color: #3B4455;\n",
              "      fill: #D2E3FC;\n",
              "    }\n",
              "\n",
              "    [theme=dark] .colab-df-convert:hover {\n",
              "      background-color: #434B5C;\n",
              "      box-shadow: 0px 1px 3px 1px rgba(0, 0, 0, 0.15);\n",
              "      filter: drop-shadow(0px 1px 2px rgba(0, 0, 0, 0.3));\n",
              "      fill: #FFFFFF;\n",
              "    }\n",
              "  </style>\n",
              "\n",
              "    <script>\n",
              "      const buttonEl =\n",
              "        document.querySelector('#df-29618b2b-fbcc-4f0c-a4ba-7c70b8f45f17 button.colab-df-convert');\n",
              "      buttonEl.style.display =\n",
              "        google.colab.kernel.accessAllowed ? 'block' : 'none';\n",
              "\n",
              "      async function convertToInteractive(key) {\n",
              "        const element = document.querySelector('#df-29618b2b-fbcc-4f0c-a4ba-7c70b8f45f17');\n",
              "        const dataTable =\n",
              "          await google.colab.kernel.invokeFunction('convertToInteractive',\n",
              "                                                    [key], {});\n",
              "        if (!dataTable) return;\n",
              "\n",
              "        const docLinkHtml = 'Like what you see? Visit the ' +\n",
              "          '<a target=\"_blank\" href=https://colab.research.google.com/notebooks/data_table.ipynb>data table notebook</a>'\n",
              "          + ' to learn more about interactive tables.';\n",
              "        element.innerHTML = '';\n",
              "        dataTable['output_type'] = 'display_data';\n",
              "        await google.colab.output.renderOutput(dataTable, element);\n",
              "        const docLink = document.createElement('div');\n",
              "        docLink.innerHTML = docLinkHtml;\n",
              "        element.appendChild(docLink);\n",
              "      }\n",
              "    </script>\n",
              "  </div>\n",
              "\n",
              "\n",
              "<div id=\"df-528aa8e1-cc80-409c-921d-e1358335c812\">\n",
              "  <button class=\"colab-df-quickchart\" onclick=\"quickchart('df-528aa8e1-cc80-409c-921d-e1358335c812')\"\n",
              "            title=\"Suggest charts\"\n",
              "            style=\"display:none;\">\n",
              "\n",
              "<svg xmlns=\"http://www.w3.org/2000/svg\" height=\"24px\"viewBox=\"0 0 24 24\"\n",
              "     width=\"24px\">\n",
              "    <g>\n",
              "        <path d=\"M19 3H5c-1.1 0-2 .9-2 2v14c0 1.1.9 2 2 2h14c1.1 0 2-.9 2-2V5c0-1.1-.9-2-2-2zM9 17H7v-7h2v7zm4 0h-2V7h2v10zm4 0h-2v-4h2v4z\"/>\n",
              "    </g>\n",
              "</svg>\n",
              "  </button>\n",
              "\n",
              "<style>\n",
              "  .colab-df-quickchart {\n",
              "      --bg-color: #E8F0FE;\n",
              "      --fill-color: #1967D2;\n",
              "      --hover-bg-color: #E2EBFA;\n",
              "      --hover-fill-color: #174EA6;\n",
              "      --disabled-fill-color: #AAA;\n",
              "      --disabled-bg-color: #DDD;\n",
              "  }\n",
              "\n",
              "  [theme=dark] .colab-df-quickchart {\n",
              "      --bg-color: #3B4455;\n",
              "      --fill-color: #D2E3FC;\n",
              "      --hover-bg-color: #434B5C;\n",
              "      --hover-fill-color: #FFFFFF;\n",
              "      --disabled-bg-color: #3B4455;\n",
              "      --disabled-fill-color: #666;\n",
              "  }\n",
              "\n",
              "  .colab-df-quickchart {\n",
              "    background-color: var(--bg-color);\n",
              "    border: none;\n",
              "    border-radius: 50%;\n",
              "    cursor: pointer;\n",
              "    display: none;\n",
              "    fill: var(--fill-color);\n",
              "    height: 32px;\n",
              "    padding: 0;\n",
              "    width: 32px;\n",
              "  }\n",
              "\n",
              "  .colab-df-quickchart:hover {\n",
              "    background-color: var(--hover-bg-color);\n",
              "    box-shadow: 0 1px 2px rgba(60, 64, 67, 0.3), 0 1px 3px 1px rgba(60, 64, 67, 0.15);\n",
              "    fill: var(--button-hover-fill-color);\n",
              "  }\n",
              "\n",
              "  .colab-df-quickchart-complete:disabled,\n",
              "  .colab-df-quickchart-complete:disabled:hover {\n",
              "    background-color: var(--disabled-bg-color);\n",
              "    fill: var(--disabled-fill-color);\n",
              "    box-shadow: none;\n",
              "  }\n",
              "\n",
              "  .colab-df-spinner {\n",
              "    border: 2px solid var(--fill-color);\n",
              "    border-color: transparent;\n",
              "    border-bottom-color: var(--fill-color);\n",
              "    animation:\n",
              "      spin 1s steps(1) infinite;\n",
              "  }\n",
              "\n",
              "  @keyframes spin {\n",
              "    0% {\n",
              "      border-color: transparent;\n",
              "      border-bottom-color: var(--fill-color);\n",
              "      border-left-color: var(--fill-color);\n",
              "    }\n",
              "    20% {\n",
              "      border-color: transparent;\n",
              "      border-left-color: var(--fill-color);\n",
              "      border-top-color: var(--fill-color);\n",
              "    }\n",
              "    30% {\n",
              "      border-color: transparent;\n",
              "      border-left-color: var(--fill-color);\n",
              "      border-top-color: var(--fill-color);\n",
              "      border-right-color: var(--fill-color);\n",
              "    }\n",
              "    40% {\n",
              "      border-color: transparent;\n",
              "      border-right-color: var(--fill-color);\n",
              "      border-top-color: var(--fill-color);\n",
              "    }\n",
              "    60% {\n",
              "      border-color: transparent;\n",
              "      border-right-color: var(--fill-color);\n",
              "    }\n",
              "    80% {\n",
              "      border-color: transparent;\n",
              "      border-right-color: var(--fill-color);\n",
              "      border-bottom-color: var(--fill-color);\n",
              "    }\n",
              "    90% {\n",
              "      border-color: transparent;\n",
              "      border-bottom-color: var(--fill-color);\n",
              "    }\n",
              "  }\n",
              "</style>\n",
              "\n",
              "  <script>\n",
              "    async function quickchart(key) {\n",
              "      const quickchartButtonEl =\n",
              "        document.querySelector('#' + key + ' button');\n",
              "      quickchartButtonEl.disabled = true;  // To prevent multiple clicks.\n",
              "      quickchartButtonEl.classList.add('colab-df-spinner');\n",
              "      try {\n",
              "        const charts = await google.colab.kernel.invokeFunction(\n",
              "            'suggestCharts', [key], {});\n",
              "      } catch (error) {\n",
              "        console.error('Error during call to suggestCharts:', error);\n",
              "      }\n",
              "      quickchartButtonEl.classList.remove('colab-df-spinner');\n",
              "      quickchartButtonEl.classList.add('colab-df-quickchart-complete');\n",
              "    }\n",
              "    (() => {\n",
              "      let quickchartButtonEl =\n",
              "        document.querySelector('#df-528aa8e1-cc80-409c-921d-e1358335c812 button');\n",
              "      quickchartButtonEl.style.display =\n",
              "        google.colab.kernel.accessAllowed ? 'block' : 'none';\n",
              "    })();\n",
              "  </script>\n",
              "</div>\n",
              "\n",
              "  <div id=\"id_4a3a66b9-199f-488e-b6e3-e4e2f1f55300\">\n",
              "    <style>\n",
              "      .colab-df-generate {\n",
              "        background-color: #E8F0FE;\n",
              "        border: none;\n",
              "        border-radius: 50%;\n",
              "        cursor: pointer;\n",
              "        display: none;\n",
              "        fill: #1967D2;\n",
              "        height: 32px;\n",
              "        padding: 0 0 0 0;\n",
              "        width: 32px;\n",
              "      }\n",
              "\n",
              "      .colab-df-generate:hover {\n",
              "        background-color: #E2EBFA;\n",
              "        box-shadow: 0px 1px 2px rgba(60, 64, 67, 0.3), 0px 1px 3px 1px rgba(60, 64, 67, 0.15);\n",
              "        fill: #174EA6;\n",
              "      }\n",
              "\n",
              "      [theme=dark] .colab-df-generate {\n",
              "        background-color: #3B4455;\n",
              "        fill: #D2E3FC;\n",
              "      }\n",
              "\n",
              "      [theme=dark] .colab-df-generate:hover {\n",
              "        background-color: #434B5C;\n",
              "        box-shadow: 0px 1px 3px 1px rgba(0, 0, 0, 0.15);\n",
              "        filter: drop-shadow(0px 1px 2px rgba(0, 0, 0, 0.3));\n",
              "        fill: #FFFFFF;\n",
              "      }\n",
              "    </style>\n",
              "    <button class=\"colab-df-generate\" onclick=\"generateWithVariable('df')\"\n",
              "            title=\"Generate code using this dataframe.\"\n",
              "            style=\"display:none;\">\n",
              "\n",
              "  <svg xmlns=\"http://www.w3.org/2000/svg\" height=\"24px\"viewBox=\"0 0 24 24\"\n",
              "       width=\"24px\">\n",
              "    <path d=\"M7,19H8.4L18.45,9,17,7.55,7,17.6ZM5,21V16.75L18.45,3.32a2,2,0,0,1,2.83,0l1.4,1.43a1.91,1.91,0,0,1,.58,1.4,1.91,1.91,0,0,1-.58,1.4L9.25,21ZM18.45,9,17,7.55Zm-12,3A5.31,5.31,0,0,0,4.9,8.1,5.31,5.31,0,0,0,1,6.5,5.31,5.31,0,0,0,4.9,4.9,5.31,5.31,0,0,0,6.5,1,5.31,5.31,0,0,0,8.1,4.9,5.31,5.31,0,0,0,12,6.5,5.46,5.46,0,0,0,6.5,12Z\"/>\n",
              "  </svg>\n",
              "    </button>\n",
              "    <script>\n",
              "      (() => {\n",
              "      const buttonEl =\n",
              "        document.querySelector('#id_4a3a66b9-199f-488e-b6e3-e4e2f1f55300 button.colab-df-generate');\n",
              "      buttonEl.style.display =\n",
              "        google.colab.kernel.accessAllowed ? 'block' : 'none';\n",
              "\n",
              "      buttonEl.onclick = () => {\n",
              "        google.colab.notebook.generateWithVariable('df');\n",
              "      }\n",
              "      })();\n",
              "    </script>\n",
              "  </div>\n",
              "\n",
              "    </div>\n",
              "  </div>\n"
            ],
            "application/vnd.google.colaboratory.intrinsic+json": {
              "type": "dataframe",
              "variable_name": "df",
              "summary": "{\n  \"name\": \"df\",\n  \"rows\": 32000,\n  \"fields\": [\n    {\n      \"column\": \"crs\",\n      \"properties\": {\n        \"dtype\": \"int32\",\n        \"num_unique_values\": 1,\n        \"samples\": [\n          -2147483647\n        ],\n        \"semantic_type\": \"\",\n        \"description\": \"\"\n      }\n    },\n    {\n      \"column\": \"lat_bnds\",\n      \"properties\": {\n        \"dtype\": \"float32\",\n        \"num_unique_values\": 101,\n        \"samples\": [\n          46.0\n        ],\n        \"semantic_type\": \"\",\n        \"description\": \"\"\n      }\n    },\n    {\n      \"column\": \"lon_bnds\",\n      \"properties\": {\n        \"dtype\": \"float32\",\n        \"num_unique_values\": 161,\n        \"samples\": [\n          -73.75\n        ],\n        \"semantic_type\": \"\",\n        \"description\": \"\"\n      }\n    },\n    {\n      \"column\": \"sla\",\n      \"properties\": {\n        \"dtype\": \"number\",\n        \"std\": 0.1146198857624667,\n        \"min\": -0.6945,\n        \"max\": 0.7465,\n        \"num_unique_values\": 3059,\n        \"samples\": [\n          -0.008\n        ],\n        \"semantic_type\": \"\",\n        \"description\": \"\"\n      }\n    },\n    {\n      \"column\": \"err_sla\",\n      \"properties\": {\n        \"dtype\": \"number\",\n        \"std\": 0.02497148450297285,\n        \"min\": 0.010700000000000001,\n        \"max\": 0.1923,\n        \"num_unique_values\": 995,\n        \"samples\": [\n          0.07980000000000001\n        ],\n        \"semantic_type\": \"\",\n        \"description\": \"\"\n      }\n    },\n    {\n      \"column\": \"ugosa\",\n      \"properties\": {\n        \"dtype\": \"number\",\n        \"std\": 0.19888009804772463,\n        \"min\": -1.0687,\n        \"max\": 1.2727000000000002,\n        \"num_unique_values\": 3920,\n        \"samples\": [\n          0.060500000000000005\n        ],\n        \"semantic_type\": \"\",\n        \"description\": \"\"\n      }\n    },\n    {\n      \"column\": \"err_ugosa\",\n      \"properties\": {\n        \"dtype\": \"number\",\n        \"std\": 0.057903970481386145,\n        \"min\": 0.0253,\n        \"max\": 0.40690000000000004,\n        \"num_unique_values\": 1847,\n        \"samples\": [\n          0.24230000000000002\n        ],\n        \"semantic_type\": \"\",\n        \"description\": \"\"\n      }\n    },\n    {\n      \"column\": \"vgosa\",\n      \"properties\": {\n        \"dtype\": \"number\",\n        \"std\": 0.19474940565963222,\n        \"min\": -0.9237000000000001,\n        \"max\": 1.4671,\n        \"num_unique_values\": 3903,\n        \"samples\": [\n          -0.0313\n        ],\n        \"semantic_type\": \"\",\n        \"description\": \"\"\n      }\n    },\n    {\n      \"column\": \"err_vgosa\",\n      \"properties\": {\n        \"dtype\": \"number\",\n        \"std\": 0.0677191785856027,\n        \"min\": 0.0383,\n        \"max\": 0.43260000000000004,\n        \"num_unique_values\": 2033,\n        \"samples\": [\n          0.1474\n        ],\n        \"semantic_type\": \"\",\n        \"description\": \"\"\n      }\n    },\n    {\n      \"column\": \"adt\",\n      \"properties\": {\n        \"dtype\": \"number\",\n        \"std\": 0.3690267495426898,\n        \"min\": -0.4933,\n        \"max\": 1.1397000000000002,\n        \"num_unique_values\": 4824,\n        \"samples\": [\n          0.8598\n        ],\n        \"semantic_type\": \"\",\n        \"description\": \"\"\n      }\n    },\n    {\n      \"column\": \"ugos\",\n      \"properties\": {\n        \"dtype\": \"number\",\n        \"std\": 0.25491176172945845,\n        \"min\": -0.9704,\n        \"max\": 1.8411000000000002,\n        \"num_unique_values\": 3995,\n        \"samples\": [\n          0.3433\n        ],\n        \"semantic_type\": \"\",\n        \"description\": \"\"\n      }\n    },\n    {\n      \"column\": \"vgos\",\n      \"properties\": {\n        \"dtype\": \"number\",\n        \"std\": 0.2530070793482768,\n        \"min\": -1.1271,\n        \"max\": 1.7049,\n        \"num_unique_values\": 3999,\n        \"samples\": [\n          -0.0666\n        ],\n        \"semantic_type\": \"\",\n        \"description\": \"\"\n      }\n    },\n    {\n      \"column\": \"tpa_correction\",\n      \"properties\": {\n        \"dtype\": \"number\",\n        \"std\": 2.9638213687770623e-15,\n        \"min\": 0.0061,\n        \"max\": 0.0061,\n        \"num_unique_values\": 1,\n        \"samples\": [\n          0.0061\n        ],\n        \"semantic_type\": \"\",\n        \"description\": \"\"\n      }\n    },\n    {\n      \"column\": \"flag_ice\",\n      \"properties\": {\n        \"dtype\": \"number\",\n        \"std\": 0.07420487540445571,\n        \"min\": 0.0,\n        \"max\": 1.0,\n        \"num_unique_values\": 2,\n        \"samples\": [\n          1.0\n        ],\n        \"semantic_type\": \"\",\n        \"description\": \"\"\n      }\n    }\n  ]\n}"
            }
          },
          "metadata": {},
          "execution_count": 11
        }
      ]
    },
    {
      "cell_type": "code",
      "source": [
        "df.columns"
      ],
      "metadata": {
        "colab": {
          "base_uri": "https://localhost:8080/"
        },
        "id": "ItAo_cfXWE9n",
        "outputId": "06cbcb0f-1cd2-4191-e9d3-5a30760465b5"
      },
      "execution_count": null,
      "outputs": [
        {
          "output_type": "execute_result",
          "data": {
            "text/plain": [
              "Index(['crs', 'lat_bnds', 'lon_bnds', 'sla', 'err_sla', 'ugosa', 'err_ugosa',\n",
              "       'vgosa', 'err_vgosa', 'adt', 'ugos', 'vgos', 'tpa_correction',\n",
              "       'flag_ice'],\n",
              "      dtype='object')"
            ]
          },
          "metadata": {},
          "execution_count": 12
        }
      ]
    },
    {
      "cell_type": "code",
      "execution_count": null,
      "metadata": {
        "id": "d5aOkbKO5YUR",
        "colab": {
          "base_uri": "https://localhost:8080/",
          "height": 17
        },
        "outputId": "3d35db37-98ab-4a9b-9172-d202cdf3394e"
      },
      "outputs": [
        {
          "output_type": "display_data",
          "data": {
            "text/plain": [
              "<IPython.core.display.Javascript object>"
            ],
            "application/javascript": [
              "\n",
              "    async function download(id, filename, size) {\n",
              "      if (!google.colab.kernel.accessAllowed) {\n",
              "        return;\n",
              "      }\n",
              "      const div = document.createElement('div');\n",
              "      const label = document.createElement('label');\n",
              "      label.textContent = `Downloading \"${filename}\": `;\n",
              "      div.appendChild(label);\n",
              "      const progress = document.createElement('progress');\n",
              "      progress.max = size;\n",
              "      div.appendChild(progress);\n",
              "      document.body.appendChild(div);\n",
              "\n",
              "      const buffers = [];\n",
              "      let downloaded = 0;\n",
              "\n",
              "      const channel = await google.colab.kernel.comms.open(id);\n",
              "      // Send a message to notify the kernel that we're ready.\n",
              "      channel.send({})\n",
              "\n",
              "      for await (const message of channel.messages) {\n",
              "        // Send a message to notify the kernel that we're ready.\n",
              "        channel.send({})\n",
              "        if (message.buffers) {\n",
              "          for (const buffer of message.buffers) {\n",
              "            buffers.push(buffer);\n",
              "            downloaded += buffer.byteLength;\n",
              "            progress.value = downloaded;\n",
              "          }\n",
              "        }\n",
              "      }\n",
              "      const blob = new Blob(buffers, {type: 'application/binary'});\n",
              "      const a = document.createElement('a');\n",
              "      a.href = window.URL.createObjectURL(blob);\n",
              "      a.download = filename;\n",
              "      div.appendChild(a);\n",
              "      a.click();\n",
              "      div.remove();\n",
              "    }\n",
              "  "
            ]
          },
          "metadata": {}
        },
        {
          "output_type": "display_data",
          "data": {
            "text/plain": [
              "<IPython.core.display.Javascript object>"
            ],
            "application/javascript": [
              "download(\"download_2cf10004-08bf-4598-8528-58185e4b445d\", \"19930101_info.txt\", 3141)"
            ]
          },
          "metadata": {}
        }
      ],
      "source": [
        "output_file_path = r\"./19930101_info.txt\"\n",
        "# Save detailed information about the contents of the file to a text file\n",
        "with open(output_file_path, \"w\") as f:\n",
        "    f.write(str(dataset))\n",
        "\n",
        "# Ensure the file is saved to the correct path in Google Colab\n",
        "files.download(output_file_path)"
      ]
    },
    {
      "cell_type": "code",
      "execution_count": null,
      "metadata": {
        "id": "DKy-7glx5YUS",
        "outputId": "b3962912-edbe-4cbf-e336-2e6e2cf88efe",
        "colab": {
          "base_uri": "https://localhost:8080/"
        }
      },
      "outputs": [
        {
          "output_type": "stream",
          "name": "stdout",
          "text": [
            "[[[-- -- -- ... -0.0594 -0.062400000000000004 -0.066]\n",
            "  [-- -- -- ... -0.051300000000000005 -0.0579 -0.0623]\n",
            "  [-- -- -- ... -0.0506 -0.057800000000000004 -0.0625]\n",
            "  ...\n",
            "  [-- -- -- ... -0.007200000000000001 -0.015000000000000001\n",
            "   -0.023100000000000002]\n",
            "  [-- -- -- ... -0.0048000000000000004 -0.010100000000000001 -0.0176]\n",
            "  [-- -- -- ... -0.0091 -0.009300000000000001 -0.0176]]]\n"
          ]
        }
      ],
      "source": [
        "# Extract the 'sla' (Sea level Anomaly) variable\n",
        "sla = dataset.variables[\"sla\"][:]\n",
        "print(sla)"
      ]
    },
    {
      "cell_type": "code",
      "execution_count": null,
      "metadata": {
        "id": "vSwZ1ezJ5YUS",
        "outputId": "49d2779f-164a-4c09-a6e2-d3675d8925d9",
        "colab": {
          "base_uri": "https://localhost:8080/"
        }
      },
      "outputs": [
        {
          "output_type": "stream",
          "name": "stdout",
          "text": [
            "Maximum SLA: 0.7465\n"
          ]
        }
      ],
      "source": [
        "# Calculate and print the max of all values stored in sla\n",
        "max_sla = np.max(sla)\n",
        "print(f\"Maximum SLA: {max_sla}\")"
      ]
    },
    {
      "cell_type": "code",
      "execution_count": null,
      "metadata": {
        "id": "-SEE_-xT5YUT",
        "outputId": "7dc144e5-de49-4d2c-dc4f-5dc618666bec",
        "colab": {
          "base_uri": "https://localhost:8080/"
        }
      },
      "outputs": [
        {
          "output_type": "stream",
          "name": "stdout",
          "text": [
            "Minimum SLA: -0.6945\n"
          ]
        }
      ],
      "source": [
        "# Calculate and print the min of all values stored in sla\n",
        "min_sla = np.min(sla)\n",
        "print(f\"Minimum SLA: {min_sla}\")"
      ]
    },
    {
      "cell_type": "code",
      "execution_count": null,
      "metadata": {
        "id": "YFH9EDdL5YUU",
        "outputId": "67a1d6b6-e041-451d-bcc5-6c6583f2065e",
        "colab": {
          "base_uri": "https://localhost:8080/"
        }
      },
      "outputs": [
        {
          "output_type": "stream",
          "name": "stdout",
          "text": [
            "Average SLA: -0.0027686967632027265\n"
          ]
        }
      ],
      "source": [
        "# Calculate and print the average of all values stored in sla\n",
        "average_sla = np.mean(sla)\n",
        "print(f\"Average SLA: {average_sla}\")"
      ]
    },
    {
      "cell_type": "code",
      "execution_count": null,
      "metadata": {
        "id": "jrwnts8F5YUU"
      },
      "outputs": [],
      "source": [
        "# Extract the latitude and longitude\n",
        "latitude = dataset.variables[\"latitude\"][:]\n",
        "longitude = dataset.variables[\"longitude\"][:]"
      ]
    },
    {
      "cell_type": "code",
      "execution_count": null,
      "metadata": {
        "id": "QL1Vicp_5YUV"
      },
      "outputs": [],
      "source": [
        "# Close the dataset\n",
        "dataset.close()"
      ]
    },
    {
      "cell_type": "code",
      "execution_count": null,
      "metadata": {
        "id": "UQXrWI7I5YUV",
        "outputId": "d3dbca53-fc84-405b-d0eb-9ce649b86e36",
        "colab": {
          "base_uri": "https://localhost:8080/",
          "height": 516
        }
      },
      "outputs": [
        {
          "output_type": "display_data",
          "data": {
            "text/plain": [
              "<Figure size 1000x600 with 2 Axes>"
            ],
            "image/png": "[encoded data removed]"
          },
          "metadata": {}
        }
      ],
      "source": [
        "# Create a meshgrid for plotting\n",
        "lon, lat = np.meshgrid(longitude, latitude)\n",
        "\n",
        "# Plot the 'sla' variable\n",
        "plt.figure(figsize=(10, 6))\n",
        "plt.contourf(lon, lat, sla[0, :, :], cmap=\"bwr\")\n",
        "plt.colorbar(label=\"Sea Level Anomaly (m)\")\n",
        "plt.xlabel(\"Longitude\")\n",
        "plt.ylabel(\"Latitude\")\n",
        "plt.title(\"Sea Level Anomaly on 1993-01-01\")\n",
        "plt.show()"
      ]
    },
    {
      "cell_type": "markdown",
      "metadata": {
        "id": "cSLM2J6Y2MQm"
      },
      "source": [
        "## Update paths below to run on Local"
      ]
    },
    {
      "cell_type": "code",
      "execution_count": null,
      "metadata": {
        "id": "uoaSlxOc5YUV"
      },
      "outputs": [],
      "source": [
        "# Define the directory containing the .nc files\n",
        "directory = r\"D:\\Data\\iharp_training_dataset\\Copernicus_ENA_training_data\""
      ]
    },
    {
      "cell_type": "code",
      "execution_count": null,
      "metadata": {
        "id": "6SlBmr5Z5YUW"
      },
      "outputs": [],
      "source": [
        "# Initialize a list to store the results\n",
        "results = []"
      ]
    },
    {
      "cell_type": "code",
      "source": [
        "os.listdir(directory)"
      ],
      "metadata": {
        "colab": {
          "base_uri": "https://localhost:8080/",
          "height": 163
        },
        "id": "LpdzOHusZJY7",
        "outputId": "9661214d-c986-4478-f35f-c8416607b812"
      },
      "execution_count": null,
      "outputs": [
        {
          "output_type": "error",
          "ename": "FileNotFoundError",
          "evalue": "[Errno 2] No such file or directory: 'D:\\\\Data\\\\iharp_training_dataset\\\\Copernicus_ENA_training_data'",
          "traceback": [
            "\u001b[0;31m---------------------------------------------------------------------------\u001b[0m",
            "\u001b[0;31mFileNotFoundError\u001b[0m                         Traceback (most recent call last)",
            "\u001b[0;32m<ipython-input-15-d251c9a5ceda>\u001b[0m in \u001b[0;36m<cell line: 1>\u001b[0;34m()\u001b[0m\n\u001b[0;32m----> 1\u001b[0;31m \u001b[0mos\u001b[0m\u001b[0;34m.\u001b[0m\u001b[0mlistdir\u001b[0m\u001b[0;34m(\u001b[0m\u001b[0mdirectory\u001b[0m\u001b[0;34m)\u001b[0m\u001b[0;34m\u001b[0m\u001b[0;34m\u001b[0m\u001b[0m\n\u001b[0m",
            "\u001b[0;31mFileNotFoundError\u001b[0m: [Errno 2] No such file or directory: 'D:\\\\Data\\\\iharp_training_dataset\\\\Copernicus_ENA_training_data'"
          ]
        }
      ]
    },
    {
      "cell_type": "code",
      "execution_count": null,
      "metadata": {
        "id": "RG5If0HD5YUW",
        "colab": {
          "base_uri": "https://localhost:8080/",
          "height": 234
        },
        "outputId": "a253ab69-b358-44aa-8dc1-28eacff3e307"
      },
      "outputs": [
        {
          "output_type": "error",
          "ename": "FileNotFoundError",
          "evalue": "[Errno 2] No such file or directory: 'D:\\\\Data\\\\iharp_training_dataset\\\\Copernicus_ENA_training_data'",
          "traceback": [
            "\u001b[0;31m---------------------------------------------------------------------------\u001b[0m",
            "\u001b[0;31mFileNotFoundError\u001b[0m                         Traceback (most recent call last)",
            "\u001b[0;32m<ipython-input-26-c22bf96f5d8d>\u001b[0m in \u001b[0;36m<cell line: 2>\u001b[0;34m()\u001b[0m\n\u001b[1;32m      1\u001b[0m \u001b[0;31m# Iterate over all files in the directory\u001b[0m\u001b[0;34m\u001b[0m\u001b[0;34m\u001b[0m\u001b[0m\n\u001b[0;32m----> 2\u001b[0;31m \u001b[0;32mfor\u001b[0m \u001b[0mfilename\u001b[0m \u001b[0;32min\u001b[0m \u001b[0mos\u001b[0m\u001b[0;34m.\u001b[0m\u001b[0mlistdir\u001b[0m\u001b[0;34m(\u001b[0m\u001b[0mdirectory\u001b[0m\u001b[0;34m)\u001b[0m\u001b[0;34m:\u001b[0m\u001b[0;34m\u001b[0m\u001b[0;34m\u001b[0m\u001b[0m\n\u001b[0m\u001b[1;32m      3\u001b[0m     \u001b[0;32mif\u001b[0m \u001b[0mfilename\u001b[0m\u001b[0;34m.\u001b[0m\u001b[0mendswith\u001b[0m\u001b[0;34m(\u001b[0m\u001b[0;34m\".nc\"\u001b[0m\u001b[0;34m)\u001b[0m\u001b[0;34m:\u001b[0m\u001b[0;34m\u001b[0m\u001b[0;34m\u001b[0m\u001b[0m\n\u001b[1;32m      4\u001b[0m         \u001b[0mfile_path\u001b[0m \u001b[0;34m=\u001b[0m \u001b[0mos\u001b[0m\u001b[0;34m.\u001b[0m\u001b[0mpath\u001b[0m\u001b[0;34m.\u001b[0m\u001b[0mjoin\u001b[0m\u001b[0;34m(\u001b[0m\u001b[0mdirectory\u001b[0m\u001b[0;34m,\u001b[0m \u001b[0mfilename\u001b[0m\u001b[0;34m)\u001b[0m\u001b[0;34m\u001b[0m\u001b[0;34m\u001b[0m\u001b[0m\n\u001b[1;32m      5\u001b[0m \u001b[0;34m\u001b[0m\u001b[0m\n",
            "\u001b[0;31mFileNotFoundError\u001b[0m: [Errno 2] No such file or directory: 'D:\\\\Data\\\\iharp_training_dataset\\\\Copernicus_ENA_training_data'"
          ]
        }
      ],
      "source": [
        "# Iterate over all files in the directory\n",
        "for filename in os.listdir(directory):\n",
        "    if filename.endswith(\".nc\"):\n",
        "        file_path = os.path.join(directory, filename)\n",
        "\n",
        "        # Extract the date part from the filename and format it\n",
        "        date_str = filename.split(\".\")[0]\n",
        "        if len(date_str) == 8:\n",
        "            formatted_date = f\"{date_str[4:6]}-{date_str[6:8]}-{date_str[:4]}\"\n",
        "\n",
        "            # Open the .nc file\n",
        "            dataset = netCDF4.Dataset(file_path, mode=\"r\")\n",
        "\n",
        "            # Extract the 'sla' variable\n",
        "            sla = dataset.variables[\"sla\"][:]\n",
        "\n",
        "            # Calculate the average of all values stored in sla\n",
        "            average_sla = np.mean(sla)\n",
        "\n",
        "            # Determine the value for the additional columns\n",
        "            value = 1 if average_sla >= 0 else 0\n",
        "\n",
        "            # Append the result to the list\n",
        "            results.append([formatted_date, average_sla] + [value] * 12)\n",
        "\n",
        "            # Close the dataset\n",
        "            dataset.close()"
      ]
    },
    {
      "cell_type": "code",
      "execution_count": null,
      "metadata": {
        "id": "YneZHDEN5YUW"
      },
      "outputs": [],
      "source": [
        "# Create a DataFrame from the results\n",
        "columns = [\n",
        "    \"Date\",\n",
        "    \"Average_SLA\",\n",
        "    \"Atlantic City\",\n",
        "    \"Baltimore\",\n",
        "    \"Eastport\",\n",
        "    \"Fort Pulaski\",\n",
        "    \"Lewes\",\n",
        "    \"New London\",\n",
        "    \"Newport\",\n",
        "    \"Portland\",\n",
        "    \"Sandy Hook\",\n",
        "    \"Sewells Point\",\n",
        "    \"The Battery\",\n",
        "    \"Washington\",\n",
        "]\n",
        "results_df = pd.DataFrame(results, columns=columns)"
      ]
    },
    {
      "cell_type": "code",
      "execution_count": null,
      "metadata": {
        "id": "dIQYWx5G5YUX"
      },
      "outputs": [],
      "source": [
        "# Remove the Average_SLA column\n",
        "results_df = results_df.drop(columns=[\"Average_SLA\"])"
      ]
    },
    {
      "cell_type": "code",
      "execution_count": null,
      "metadata": {
        "id": "nmhqskY75YUX"
      },
      "outputs": [],
      "source": [
        "# Define the path to the output CSV file\n",
        "output_csv_path = r\"D:\\Git\\ML-challenge\\baseline\\demo_sla.csv\""
      ]
    },
    {
      "cell_type": "code",
      "execution_count": null,
      "metadata": {
        "id": "BvHU1_6A5YUX"
      },
      "outputs": [],
      "source": [
        "# Save the DataFrame to a CSV file\n",
        "results_df.to_csv(output_csv_path, index=False)"
      ]
    }
  ],
  "metadata": {
    "colab": {
      "provenance": []
    },
    "kernelspec": {
      "display_name": "lightning-env",
      "language": "python",
      "name": "python3"
    },
    "language_info": {
      "codemirror_mode": {
        "name": "ipython",
        "version": 3
      },
      "file_extension": ".py",
      "mimetype": "text/x-python",
      "name": "python",
      "nbconvert_exporter": "python",
      "pygments_lexer": "ipython3",
      "version": "3.12.3"
    }
  },
  "nbformat": 4,
  "nbformat_minor": 0
}